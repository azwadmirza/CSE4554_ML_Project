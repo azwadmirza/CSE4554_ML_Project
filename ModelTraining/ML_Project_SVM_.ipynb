{
  "cells": [
    {
      "cell_type": "markdown",
      "metadata": {
        "id": "LR522QnThKBY"
      },
      "source": [
        "# Support Vector Classifier"
      ]
    },
    {
      "cell_type": "code",
      "execution_count": null,
      "metadata": {
        "id": "XsrVFRv2hMU7"
      },
      "outputs": [],
      "source": [
        "import pandas as pd\n",
        "from sklearn.model_selection import cross_val_score, StratifiedKFold\n",
        "from sklearn.svm import SVC\n",
        "from sklearn.preprocessing import StandardScaler\n",
        "from sklearn.pipeline import make_pipeline\n",
        "import numpy as np\n",
        "import matplotlib.pyplot as plt"
      ]
    },
    {
      "cell_type": "code",
      "execution_count": null,
      "metadata": {
        "colab": {
          "base_uri": "https://localhost:8080/"
        },
        "id": "qUMNx1IChoIN",
        "outputId": "bfed1fa5-ebe1-4329-cdac-69fc943060fd"
      },
      "outputs": [
        {
          "name": "stdout",
          "output_type": "stream",
          "text": [
            "Requirement already satisfied: ipython-autotime in c:\\users\\mirza\\appdata\\local\\programs\\python\\python312\\lib\\site-packages (0.3.2)\n",
            "Requirement already satisfied: ipython in c:\\users\\mirza\\appdata\\local\\programs\\python\\python312\\lib\\site-packages (from ipython-autotime) (8.17.2)\n",
            "Requirement already satisfied: decorator in c:\\users\\mirza\\appdata\\local\\programs\\python\\python312\\lib\\site-packages (from ipython->ipython-autotime) (5.1.1)\n",
            "Requirement already satisfied: jedi>=0.16 in c:\\users\\mirza\\appdata\\local\\programs\\python\\python312\\lib\\site-packages (from ipython->ipython-autotime) (0.19.1)\n",
            "Requirement already satisfied: matplotlib-inline in c:\\users\\mirza\\appdata\\local\\programs\\python\\python312\\lib\\site-packages (from ipython->ipython-autotime) (0.1.6)\n",
            "Requirement already satisfied: prompt-toolkit!=3.0.37,<3.1.0,>=3.0.30 in c:\\users\\mirza\\appdata\\local\\programs\\python\\python312\\lib\\site-packages (from ipython->ipython-autotime) (3.0.41)\n",
            "Requirement already satisfied: pygments>=2.4.0 in c:\\users\\mirza\\appdata\\local\\programs\\python\\python312\\lib\\site-packages (from ipython->ipython-autotime) (2.17.1)\n",
            "Requirement already satisfied: stack-data in c:\\users\\mirza\\appdata\\local\\programs\\python\\python312\\lib\\site-packages (from ipython->ipython-autotime) (0.6.3)\n",
            "Requirement already satisfied: traitlets>=5 in c:\\users\\mirza\\appdata\\local\\programs\\python\\python312\\lib\\site-packages (from ipython->ipython-autotime) (5.13.0)\n",
            "Requirement already satisfied: colorama in c:\\users\\mirza\\appdata\\local\\programs\\python\\python312\\lib\\site-packages (from ipython->ipython-autotime) (0.4.6)\n",
            "Requirement already satisfied: parso<0.9.0,>=0.8.3 in c:\\users\\mirza\\appdata\\local\\programs\\python\\python312\\lib\\site-packages (from jedi>=0.16->ipython->ipython-autotime) (0.8.3)\n",
            "Requirement already satisfied: wcwidth in c:\\users\\mirza\\appdata\\local\\programs\\python\\python312\\lib\\site-packages (from prompt-toolkit!=3.0.37,<3.1.0,>=3.0.30->ipython->ipython-autotime) (0.2.10)\n",
            "Requirement already satisfied: executing>=1.2.0 in c:\\users\\mirza\\appdata\\local\\programs\\python\\python312\\lib\\site-packages (from stack-data->ipython->ipython-autotime) (2.0.1)\n",
            "Requirement already satisfied: asttokens>=2.1.0 in c:\\users\\mirza\\appdata\\local\\programs\\python\\python312\\lib\\site-packages (from stack-data->ipython->ipython-autotime) (2.4.1)\n",
            "Requirement already satisfied: pure-eval in c:\\users\\mirza\\appdata\\local\\programs\\python\\python312\\lib\\site-packages (from stack-data->ipython->ipython-autotime) (0.2.2)\n",
            "Requirement already satisfied: six>=1.12.0 in c:\\users\\mirza\\appdata\\local\\programs\\python\\python312\\lib\\site-packages (from asttokens>=2.1.0->stack-data->ipython->ipython-autotime) (1.16.0)\n",
            "time: 0 ns (started: 2023-11-29 15:55:54 +06:00)\n"
          ]
        }
      ],
      "source": [
        "!pip install ipython-autotime\n",
        "%load_ext autotime"
      ]
    },
    {
      "cell_type": "code",
      "execution_count": null,
      "metadata": {
        "colab": {
          "base_uri": "https://localhost:8080/"
        },
        "id": "yOMjoEtmhyVa",
        "outputId": "0b6a7642-c429-44db-f499-fc2f819a95f7"
      },
      "outputs": [
        {
          "name": "stdout",
          "output_type": "stream",
          "text": [
            "time: 4.86 s (started: 2023-11-29 15:55:54 +06:00)\n"
          ]
        }
      ],
      "source": [
        "df_train=pd.read_csv('training_set.csv')\n",
        "df_val=pd.read_csv('validation_set.csv')"
      ]
    },
    {
      "cell_type": "code",
      "execution_count": null,
      "metadata": {
        "colab": {
          "base_uri": "https://localhost:8080/"
        },
        "id": "R90faNnezExS",
        "outputId": "8ef09220-9428-4b17-c278-85c041ff883d"
      },
      "outputs": [
        {
          "name": "stdout",
          "output_type": "stream",
          "text": [
            "time: 1.36 s (started: 2023-11-29 15:55:59 +06:00)\n"
          ]
        }
      ],
      "source": [
        "classes_0=clases_0_bug=df_train.loc[df_train['Bug Present']==0].values\n",
        "classes_1=classes_1_bug=df_train.loc[df_train['Bug Present']==1].values\n",
        "columns=df_train.columns\n",
        "training_set=[]\n",
        "j=0\n",
        "for i in range(len(classes_1)):\n",
        "    training_set.append(classes_1[i])\n",
        "    for k in range(5):\n",
        "        training_set.append(classes_0[j])\n",
        "        j+=1\n",
        "df_train=pd.DataFrame(training_set,columns=columns)"
      ]
    },
    {
      "cell_type": "code",
      "execution_count": null,
      "metadata": {
        "id": "oxGTc7LiB_vz",
        "outputId": "eb9ba66d-5c7c-412f-b9ed-63e9337664a5"
      },
      "outputs": [
        {
          "data": {
            "text/html": [
              "<div>\n",
              "<style scoped>\n",
              "    .dataframe tbody tr th:only-of-type {\n",
              "        vertical-align: middle;\n",
              "    }\n",
              "\n",
              "    .dataframe tbody tr th {\n",
              "        vertical-align: top;\n",
              "    }\n",
              "\n",
              "    .dataframe thead th {\n",
              "        text-align: right;\n",
              "    }\n",
              "</style>\n",
              "<table border=\"1\" class=\"dataframe\">\n",
              "  <thead>\n",
              "    <tr style=\"text-align: right;\">\n",
              "      <th></th>\n",
              "      <th>Unnamed: 0</th>\n",
              "      <th>filename</th>\n",
              "      <th>loc</th>\n",
              "      <th>lloc</th>\n",
              "      <th>sloc</th>\n",
              "      <th>comments</th>\n",
              "      <th>multi</th>\n",
              "      <th>blank</th>\n",
              "      <th>single_comments</th>\n",
              "      <th>Cyclomatic Complexity</th>\n",
              "      <th>...</th>\n",
              "      <th>calculated_length</th>\n",
              "      <th>volume</th>\n",
              "      <th>difficulty</th>\n",
              "      <th>effort</th>\n",
              "      <th>time</th>\n",
              "      <th>bugs</th>\n",
              "      <th>number of methods</th>\n",
              "      <th>number of attributes</th>\n",
              "      <th>number of branches</th>\n",
              "      <th>Bug Present</th>\n",
              "    </tr>\n",
              "  </thead>\n",
              "  <tbody>\n",
              "    <tr>\n",
              "      <th>0</th>\n",
              "      <td>1291312</td>\n",
              "      <td>fa37ab4b15077a4a9b52e559e0ef929a004e330124d214...</td>\n",
              "      <td>13</td>\n",
              "      <td>15</td>\n",
              "      <td>13</td>\n",
              "      <td>0</td>\n",
              "      <td>0</td>\n",
              "      <td>0</td>\n",
              "      <td>0</td>\n",
              "      <td>8</td>\n",
              "      <td>...</td>\n",
              "      <td>16.364528</td>\n",
              "      <td>24.000000</td>\n",
              "      <td>1.500000</td>\n",
              "      <td>36.000000</td>\n",
              "      <td>2.000000</td>\n",
              "      <td>0.008000</td>\n",
              "      <td>1.0</td>\n",
              "      <td>17.0</td>\n",
              "      <td>2.0</td>\n",
              "      <td>1</td>\n",
              "    </tr>\n",
              "    <tr>\n",
              "      <th>1</th>\n",
              "      <td>0</td>\n",
              "      <td>f95de9b62e6691b50a871d181844827b7473028e.py</td>\n",
              "      <td>8</td>\n",
              "      <td>3</td>\n",
              "      <td>5</td>\n",
              "      <td>0</td>\n",
              "      <td>3</td>\n",
              "      <td>0</td>\n",
              "      <td>0</td>\n",
              "      <td>1</td>\n",
              "      <td>...</td>\n",
              "      <td>0.000000</td>\n",
              "      <td>0.000000</td>\n",
              "      <td>0.000000</td>\n",
              "      <td>0.000000</td>\n",
              "      <td>0.000000</td>\n",
              "      <td>0.000000</td>\n",
              "      <td>1.0</td>\n",
              "      <td>5.0</td>\n",
              "      <td>0.0</td>\n",
              "      <td>0</td>\n",
              "    </tr>\n",
              "    <tr>\n",
              "      <th>2</th>\n",
              "      <td>1</td>\n",
              "      <td>9afd16629066214a70c154322b16a8acc90c2c03.py</td>\n",
              "      <td>6</td>\n",
              "      <td>4</td>\n",
              "      <td>3</td>\n",
              "      <td>0</td>\n",
              "      <td>3</td>\n",
              "      <td>0</td>\n",
              "      <td>0</td>\n",
              "      <td>1</td>\n",
              "      <td>...</td>\n",
              "      <td>0.000000</td>\n",
              "      <td>0.000000</td>\n",
              "      <td>0.000000</td>\n",
              "      <td>0.000000</td>\n",
              "      <td>0.000000</td>\n",
              "      <td>0.000000</td>\n",
              "      <td>1.0</td>\n",
              "      <td>7.0</td>\n",
              "      <td>0.0</td>\n",
              "      <td>0</td>\n",
              "    </tr>\n",
              "    <tr>\n",
              "      <th>3</th>\n",
              "      <td>2</td>\n",
              "      <td>592eabbffbbbd46a235262fdb786b15ca3571b7b.py</td>\n",
              "      <td>55</td>\n",
              "      <td>36</td>\n",
              "      <td>39</td>\n",
              "      <td>2</td>\n",
              "      <td>6</td>\n",
              "      <td>8</td>\n",
              "      <td>2</td>\n",
              "      <td>11</td>\n",
              "      <td>...</td>\n",
              "      <td>158.605938</td>\n",
              "      <td>227.476700</td>\n",
              "      <td>4.142857</td>\n",
              "      <td>942.403472</td>\n",
              "      <td>52.355748</td>\n",
              "      <td>0.075826</td>\n",
              "      <td>2.0</td>\n",
              "      <td>35.0</td>\n",
              "      <td>9.0</td>\n",
              "      <td>0</td>\n",
              "    </tr>\n",
              "    <tr>\n",
              "      <th>4</th>\n",
              "      <td>3</td>\n",
              "      <td>7de01ce593a0a7a8d36befd325d0a6474fe8682a.py</td>\n",
              "      <td>21</td>\n",
              "      <td>11</td>\n",
              "      <td>18</td>\n",
              "      <td>0</td>\n",
              "      <td>3</td>\n",
              "      <td>0</td>\n",
              "      <td>0</td>\n",
              "      <td>3</td>\n",
              "      <td>...</td>\n",
              "      <td>4.754888</td>\n",
              "      <td>12.000000</td>\n",
              "      <td>0.666667</td>\n",
              "      <td>8.000000</td>\n",
              "      <td>0.444444</td>\n",
              "      <td>0.004000</td>\n",
              "      <td>1.0</td>\n",
              "      <td>14.0</td>\n",
              "      <td>2.0</td>\n",
              "      <td>0</td>\n",
              "    </tr>\n",
              "    <tr>\n",
              "      <th>...</th>\n",
              "      <td>...</td>\n",
              "      <td>...</td>\n",
              "      <td>...</td>\n",
              "      <td>...</td>\n",
              "      <td>...</td>\n",
              "      <td>...</td>\n",
              "      <td>...</td>\n",
              "      <td>...</td>\n",
              "      <td>...</td>\n",
              "      <td>...</td>\n",
              "      <td>...</td>\n",
              "      <td>...</td>\n",
              "      <td>...</td>\n",
              "      <td>...</td>\n",
              "      <td>...</td>\n",
              "      <td>...</td>\n",
              "      <td>...</td>\n",
              "      <td>...</td>\n",
              "      <td>...</td>\n",
              "      <td>...</td>\n",
              "      <td>...</td>\n",
              "    </tr>\n",
              "    <tr>\n",
              "      <th>84445</th>\n",
              "      <td>70370</td>\n",
              "      <td>b26e865c235b27d0921e3a548a49f7d7353c9899.py</td>\n",
              "      <td>6</td>\n",
              "      <td>3</td>\n",
              "      <td>2</td>\n",
              "      <td>0</td>\n",
              "      <td>4</td>\n",
              "      <td>0</td>\n",
              "      <td>0</td>\n",
              "      <td>1</td>\n",
              "      <td>...</td>\n",
              "      <td>2.000000</td>\n",
              "      <td>4.754888</td>\n",
              "      <td>0.500000</td>\n",
              "      <td>2.377444</td>\n",
              "      <td>0.132080</td>\n",
              "      <td>0.001585</td>\n",
              "      <td>1.0</td>\n",
              "      <td>1.0</td>\n",
              "      <td>0.0</td>\n",
              "      <td>0</td>\n",
              "    </tr>\n",
              "    <tr>\n",
              "      <th>84446</th>\n",
              "      <td>70371</td>\n",
              "      <td>33cff754007c80b47ef154f35e4717573c6317bb.py</td>\n",
              "      <td>5</td>\n",
              "      <td>4</td>\n",
              "      <td>5</td>\n",
              "      <td>0</td>\n",
              "      <td>0</td>\n",
              "      <td>0</td>\n",
              "      <td>0</td>\n",
              "      <td>1</td>\n",
              "      <td>...</td>\n",
              "      <td>2.000000</td>\n",
              "      <td>4.754888</td>\n",
              "      <td>0.500000</td>\n",
              "      <td>2.377444</td>\n",
              "      <td>0.132080</td>\n",
              "      <td>0.001585</td>\n",
              "      <td>1.0</td>\n",
              "      <td>6.0</td>\n",
              "      <td>0.0</td>\n",
              "      <td>0</td>\n",
              "    </tr>\n",
              "    <tr>\n",
              "      <th>84447</th>\n",
              "      <td>70372</td>\n",
              "      <td>16162f157e01726aa0b2e8ffcce5614e2f5eb063.py</td>\n",
              "      <td>3</td>\n",
              "      <td>3</td>\n",
              "      <td>2</td>\n",
              "      <td>0</td>\n",
              "      <td>0</td>\n",
              "      <td>0</td>\n",
              "      <td>1</td>\n",
              "      <td>1</td>\n",
              "      <td>...</td>\n",
              "      <td>0.000000</td>\n",
              "      <td>0.000000</td>\n",
              "      <td>0.000000</td>\n",
              "      <td>0.000000</td>\n",
              "      <td>0.000000</td>\n",
              "      <td>0.000000</td>\n",
              "      <td>1.0</td>\n",
              "      <td>0.0</td>\n",
              "      <td>0.0</td>\n",
              "      <td>0</td>\n",
              "    </tr>\n",
              "    <tr>\n",
              "      <th>84448</th>\n",
              "      <td>70373</td>\n",
              "      <td>17517a99d3d991658e1dd33c0d811bf1de50054e.py</td>\n",
              "      <td>9</td>\n",
              "      <td>6</td>\n",
              "      <td>7</td>\n",
              "      <td>1</td>\n",
              "      <td>0</td>\n",
              "      <td>0</td>\n",
              "      <td>2</td>\n",
              "      <td>2</td>\n",
              "      <td>...</td>\n",
              "      <td>2.000000</td>\n",
              "      <td>4.754888</td>\n",
              "      <td>0.500000</td>\n",
              "      <td>2.377444</td>\n",
              "      <td>0.132080</td>\n",
              "      <td>0.001585</td>\n",
              "      <td>1.0</td>\n",
              "      <td>9.0</td>\n",
              "      <td>1.0</td>\n",
              "      <td>0</td>\n",
              "    </tr>\n",
              "    <tr>\n",
              "      <th>84449</th>\n",
              "      <td>70374</td>\n",
              "      <td>92cb7011b89a28ca3ae0ff8c1e4f212f326a8792.py</td>\n",
              "      <td>35</td>\n",
              "      <td>13</td>\n",
              "      <td>12</td>\n",
              "      <td>12</td>\n",
              "      <td>7</td>\n",
              "      <td>4</td>\n",
              "      <td>12</td>\n",
              "      <td>3</td>\n",
              "      <td>...</td>\n",
              "      <td>0.000000</td>\n",
              "      <td>0.000000</td>\n",
              "      <td>0.000000</td>\n",
              "      <td>0.000000</td>\n",
              "      <td>0.000000</td>\n",
              "      <td>0.000000</td>\n",
              "      <td>1.0</td>\n",
              "      <td>19.0</td>\n",
              "      <td>0.0</td>\n",
              "      <td>0</td>\n",
              "    </tr>\n",
              "  </tbody>\n",
              "</table>\n",
              "<p>84450 rows × 27 columns</p>\n",
              "</div>"
            ],
            "text/plain": [
              "       Unnamed: 0                                           filename  loc  \\\n",
              "0         1291312  fa37ab4b15077a4a9b52e559e0ef929a004e330124d214...   13   \n",
              "1               0        f95de9b62e6691b50a871d181844827b7473028e.py    8   \n",
              "2               1        9afd16629066214a70c154322b16a8acc90c2c03.py    6   \n",
              "3               2        592eabbffbbbd46a235262fdb786b15ca3571b7b.py   55   \n",
              "4               3        7de01ce593a0a7a8d36befd325d0a6474fe8682a.py   21   \n",
              "...           ...                                                ...  ...   \n",
              "84445       70370        b26e865c235b27d0921e3a548a49f7d7353c9899.py    6   \n",
              "84446       70371        33cff754007c80b47ef154f35e4717573c6317bb.py    5   \n",
              "84447       70372        16162f157e01726aa0b2e8ffcce5614e2f5eb063.py    3   \n",
              "84448       70373        17517a99d3d991658e1dd33c0d811bf1de50054e.py    9   \n",
              "84449       70374        92cb7011b89a28ca3ae0ff8c1e4f212f326a8792.py   35   \n",
              "\n",
              "       lloc  sloc  comments  multi  blank  single_comments  \\\n",
              "0        15    13         0      0      0                0   \n",
              "1         3     5         0      3      0                0   \n",
              "2         4     3         0      3      0                0   \n",
              "3        36    39         2      6      8                2   \n",
              "4        11    18         0      3      0                0   \n",
              "...     ...   ...       ...    ...    ...              ...   \n",
              "84445     3     2         0      4      0                0   \n",
              "84446     4     5         0      0      0                0   \n",
              "84447     3     2         0      0      0                1   \n",
              "84448     6     7         1      0      0                2   \n",
              "84449    13    12        12      7      4               12   \n",
              "\n",
              "       Cyclomatic Complexity  ...  calculated_length      volume  difficulty  \\\n",
              "0                          8  ...          16.364528   24.000000    1.500000   \n",
              "1                          1  ...           0.000000    0.000000    0.000000   \n",
              "2                          1  ...           0.000000    0.000000    0.000000   \n",
              "3                         11  ...         158.605938  227.476700    4.142857   \n",
              "4                          3  ...           4.754888   12.000000    0.666667   \n",
              "...                      ...  ...                ...         ...         ...   \n",
              "84445                      1  ...           2.000000    4.754888    0.500000   \n",
              "84446                      1  ...           2.000000    4.754888    0.500000   \n",
              "84447                      1  ...           0.000000    0.000000    0.000000   \n",
              "84448                      2  ...           2.000000    4.754888    0.500000   \n",
              "84449                      3  ...           0.000000    0.000000    0.000000   \n",
              "\n",
              "           effort       time      bugs  number of methods  \\\n",
              "0       36.000000   2.000000  0.008000                1.0   \n",
              "1        0.000000   0.000000  0.000000                1.0   \n",
              "2        0.000000   0.000000  0.000000                1.0   \n",
              "3      942.403472  52.355748  0.075826                2.0   \n",
              "4        8.000000   0.444444  0.004000                1.0   \n",
              "...           ...        ...       ...                ...   \n",
              "84445    2.377444   0.132080  0.001585                1.0   \n",
              "84446    2.377444   0.132080  0.001585                1.0   \n",
              "84447    0.000000   0.000000  0.000000                1.0   \n",
              "84448    2.377444   0.132080  0.001585                1.0   \n",
              "84449    0.000000   0.000000  0.000000                1.0   \n",
              "\n",
              "       number of attributes  number of branches  Bug Present  \n",
              "0                      17.0                 2.0            1  \n",
              "1                       5.0                 0.0            0  \n",
              "2                       7.0                 0.0            0  \n",
              "3                      35.0                 9.0            0  \n",
              "4                      14.0                 2.0            0  \n",
              "...                     ...                 ...          ...  \n",
              "84445                   1.0                 0.0            0  \n",
              "84446                   6.0                 0.0            0  \n",
              "84447                   0.0                 0.0            0  \n",
              "84448                   9.0                 1.0            0  \n",
              "84449                  19.0                 0.0            0  \n",
              "\n",
              "[84450 rows x 27 columns]"
            ]
          },
          "execution_count": 5,
          "metadata": {},
          "output_type": "execute_result"
        },
        {
          "name": "stdout",
          "output_type": "stream",
          "text": [
            "time: 63 ms (started: 2023-11-29 15:56:00 +06:00)\n"
          ]
        }
      ],
      "source": [
        "df_train"
      ]
    },
    {
      "cell_type": "code",
      "execution_count": null,
      "metadata": {
        "colab": {
          "base_uri": "https://localhost:8080/"
        },
        "id": "FNvCQ85XIIQK",
        "outputId": "d3ea096e-32ac-41b9-dfcd-e9e23aca9a13"
      },
      "outputs": [
        {
          "name": "stdout",
          "output_type": "stream",
          "text": [
            "time: 1.31 s (started: 2023-11-29 15:56:00 +06:00)\n"
          ]
        }
      ],
      "source": [
        "classes_0=clases_0_bug=df_val.loc[df_val['Bug Present']==0].values\n",
        "classes_1=classes_1_bug=df_val.loc[df_val['Bug Present']==1].values\n",
        "columns=df_val.columns\n",
        "validation_set=[]\n",
        "j=0\n",
        "for i in range(len(classes_1)):\n",
        "    validation_set.append(classes_1[i])\n",
        "    for k in range(5):\n",
        "        validation_set.append(classes_0[j])\n",
        "        j+=1\n",
        "df_val=pd.DataFrame(validation_set,columns=columns)"
      ]
    },
    {
      "cell_type": "code",
      "execution_count": null,
      "metadata": {
        "colab": {
          "base_uri": "https://localhost:8080/",
          "height": 495
        },
        "id": "H23AFVojIUin",
        "outputId": "765e6077-3050-4812-c118-e1483cf97bc4"
      },
      "outputs": [
        {
          "data": {
            "text/html": [
              "<div>\n",
              "<style scoped>\n",
              "    .dataframe tbody tr th:only-of-type {\n",
              "        vertical-align: middle;\n",
              "    }\n",
              "\n",
              "    .dataframe tbody tr th {\n",
              "        vertical-align: top;\n",
              "    }\n",
              "\n",
              "    .dataframe thead th {\n",
              "        text-align: right;\n",
              "    }\n",
              "</style>\n",
              "<table border=\"1\" class=\"dataframe\">\n",
              "  <thead>\n",
              "    <tr style=\"text-align: right;\">\n",
              "      <th></th>\n",
              "      <th>filename</th>\n",
              "      <th>loc</th>\n",
              "      <th>lloc</th>\n",
              "      <th>sloc</th>\n",
              "      <th>comments</th>\n",
              "      <th>multi</th>\n",
              "      <th>blank</th>\n",
              "      <th>single_comments</th>\n",
              "      <th>Cyclomatic Complexity</th>\n",
              "      <th>mi</th>\n",
              "      <th>...</th>\n",
              "      <th>calculated_length</th>\n",
              "      <th>volume</th>\n",
              "      <th>difficulty</th>\n",
              "      <th>effort</th>\n",
              "      <th>time</th>\n",
              "      <th>bugs</th>\n",
              "      <th>number of methods</th>\n",
              "      <th>number of attributes</th>\n",
              "      <th>number of branches</th>\n",
              "      <th>Bug Present</th>\n",
              "    </tr>\n",
              "  </thead>\n",
              "  <tbody>\n",
              "    <tr>\n",
              "      <th>0</th>\n",
              "      <td>6b1419553be378b76534b66c80bbfe102c97375b381df8...</td>\n",
              "      <td>54</td>\n",
              "      <td>15</td>\n",
              "      <td>37</td>\n",
              "      <td>0</td>\n",
              "      <td>12</td>\n",
              "      <td>5</td>\n",
              "      <td>0</td>\n",
              "      <td>2</td>\n",
              "      <td>100.000000</td>\n",
              "      <td>...</td>\n",
              "      <td>0.000000</td>\n",
              "      <td>0.000000</td>\n",
              "      <td>0.000000</td>\n",
              "      <td>0.000000</td>\n",
              "      <td>0.000000</td>\n",
              "      <td>0.000000</td>\n",
              "      <td>0.0</td>\n",
              "      <td>37.0</td>\n",
              "      <td>0.0</td>\n",
              "      <td>1</td>\n",
              "    </tr>\n",
              "    <tr>\n",
              "      <th>1</th>\n",
              "      <td>198cdf11b175f5399337273dd6c828f015966766.py</td>\n",
              "      <td>2</td>\n",
              "      <td>2</td>\n",
              "      <td>2</td>\n",
              "      <td>0</td>\n",
              "      <td>0</td>\n",
              "      <td>0</td>\n",
              "      <td>0</td>\n",
              "      <td>1</td>\n",
              "      <td>85.288536</td>\n",
              "      <td>...</td>\n",
              "      <td>6.754888</td>\n",
              "      <td>13.931569</td>\n",
              "      <td>1.333333</td>\n",
              "      <td>18.575425</td>\n",
              "      <td>1.031968</td>\n",
              "      <td>0.004644</td>\n",
              "      <td>1.0</td>\n",
              "      <td>4.0</td>\n",
              "      <td>0.0</td>\n",
              "      <td>0</td>\n",
              "    </tr>\n",
              "    <tr>\n",
              "      <th>2</th>\n",
              "      <td>fc962a255b9813000a1a6af6ae8fc2787df9f9f3.py</td>\n",
              "      <td>31</td>\n",
              "      <td>14</td>\n",
              "      <td>16</td>\n",
              "      <td>0</td>\n",
              "      <td>10</td>\n",
              "      <td>5</td>\n",
              "      <td>0</td>\n",
              "      <td>6</td>\n",
              "      <td>63.125423</td>\n",
              "      <td>...</td>\n",
              "      <td>27.651484</td>\n",
              "      <td>38.053748</td>\n",
              "      <td>2.000000</td>\n",
              "      <td>76.107496</td>\n",
              "      <td>4.228194</td>\n",
              "      <td>0.012685</td>\n",
              "      <td>1.0</td>\n",
              "      <td>19.0</td>\n",
              "      <td>3.0</td>\n",
              "      <td>0</td>\n",
              "    </tr>\n",
              "    <tr>\n",
              "      <th>3</th>\n",
              "      <td>76727adad9cb6a1bf76b9ef414e9aa527205f3aa.py</td>\n",
              "      <td>2</td>\n",
              "      <td>2</td>\n",
              "      <td>2</td>\n",
              "      <td>0</td>\n",
              "      <td>0</td>\n",
              "      <td>0</td>\n",
              "      <td>0</td>\n",
              "      <td>1</td>\n",
              "      <td>100.000000</td>\n",
              "      <td>...</td>\n",
              "      <td>0.000000</td>\n",
              "      <td>0.000000</td>\n",
              "      <td>0.000000</td>\n",
              "      <td>0.000000</td>\n",
              "      <td>0.000000</td>\n",
              "      <td>0.000000</td>\n",
              "      <td>1.0</td>\n",
              "      <td>3.0</td>\n",
              "      <td>0.0</td>\n",
              "      <td>0</td>\n",
              "    </tr>\n",
              "    <tr>\n",
              "      <th>4</th>\n",
              "      <td>c4465c13d1c8068c349fb1fe57c2af826a0a14fa.py</td>\n",
              "      <td>2</td>\n",
              "      <td>2</td>\n",
              "      <td>2</td>\n",
              "      <td>0</td>\n",
              "      <td>0</td>\n",
              "      <td>0</td>\n",
              "      <td>0</td>\n",
              "      <td>1</td>\n",
              "      <td>100.000000</td>\n",
              "      <td>...</td>\n",
              "      <td>0.000000</td>\n",
              "      <td>0.000000</td>\n",
              "      <td>0.000000</td>\n",
              "      <td>0.000000</td>\n",
              "      <td>0.000000</td>\n",
              "      <td>0.000000</td>\n",
              "      <td>1.0</td>\n",
              "      <td>3.0</td>\n",
              "      <td>0.0</td>\n",
              "      <td>0</td>\n",
              "    </tr>\n",
              "    <tr>\n",
              "      <th>...</th>\n",
              "      <td>...</td>\n",
              "      <td>...</td>\n",
              "      <td>...</td>\n",
              "      <td>...</td>\n",
              "      <td>...</td>\n",
              "      <td>...</td>\n",
              "      <td>...</td>\n",
              "      <td>...</td>\n",
              "      <td>...</td>\n",
              "      <td>...</td>\n",
              "      <td>...</td>\n",
              "      <td>...</td>\n",
              "      <td>...</td>\n",
              "      <td>...</td>\n",
              "      <td>...</td>\n",
              "      <td>...</td>\n",
              "      <td>...</td>\n",
              "      <td>...</td>\n",
              "      <td>...</td>\n",
              "      <td>...</td>\n",
              "      <td>...</td>\n",
              "    </tr>\n",
              "    <tr>\n",
              "      <th>56563</th>\n",
              "      <td>b60eee1f0b64a97dd0e39c6ec585b038ae6296d1.py</td>\n",
              "      <td>18</td>\n",
              "      <td>17</td>\n",
              "      <td>17</td>\n",
              "      <td>1</td>\n",
              "      <td>0</td>\n",
              "      <td>1</td>\n",
              "      <td>0</td>\n",
              "      <td>8</td>\n",
              "      <td>73.161694</td>\n",
              "      <td>...</td>\n",
              "      <td>51.019550</td>\n",
              "      <td>72.000000</td>\n",
              "      <td>2.000000</td>\n",
              "      <td>144.000000</td>\n",
              "      <td>8.000000</td>\n",
              "      <td>0.024000</td>\n",
              "      <td>1.0</td>\n",
              "      <td>16.0</td>\n",
              "      <td>5.0</td>\n",
              "      <td>0</td>\n",
              "    </tr>\n",
              "    <tr>\n",
              "      <th>56564</th>\n",
              "      <td>e9edf4eeaa4ca4df452d4cd79f49af45a3143392.py</td>\n",
              "      <td>5</td>\n",
              "      <td>5</td>\n",
              "      <td>4</td>\n",
              "      <td>0</td>\n",
              "      <td>0</td>\n",
              "      <td>0</td>\n",
              "      <td>1</td>\n",
              "      <td>1</td>\n",
              "      <td>100.000000</td>\n",
              "      <td>...</td>\n",
              "      <td>0.000000</td>\n",
              "      <td>0.000000</td>\n",
              "      <td>0.000000</td>\n",
              "      <td>0.000000</td>\n",
              "      <td>0.000000</td>\n",
              "      <td>0.000000</td>\n",
              "      <td>1.0</td>\n",
              "      <td>9.0</td>\n",
              "      <td>0.0</td>\n",
              "      <td>0</td>\n",
              "    </tr>\n",
              "    <tr>\n",
              "      <th>56565</th>\n",
              "      <td>2d5d43d99bab1a14cffd8b8a4e7ec6da5d3db25b.py</td>\n",
              "      <td>4</td>\n",
              "      <td>4</td>\n",
              "      <td>4</td>\n",
              "      <td>0</td>\n",
              "      <td>0</td>\n",
              "      <td>0</td>\n",
              "      <td>0</td>\n",
              "      <td>2</td>\n",
              "      <td>79.141804</td>\n",
              "      <td>...</td>\n",
              "      <td>6.754888</td>\n",
              "      <td>11.609640</td>\n",
              "      <td>1.000000</td>\n",
              "      <td>11.609640</td>\n",
              "      <td>0.644980</td>\n",
              "      <td>0.003870</td>\n",
              "      <td>1.0</td>\n",
              "      <td>7.0</td>\n",
              "      <td>1.0</td>\n",
              "      <td>0</td>\n",
              "    </tr>\n",
              "    <tr>\n",
              "      <th>56566</th>\n",
              "      <td>115e059e2f6d8632fb57c6bd99657b8c354d7f79.py</td>\n",
              "      <td>28</td>\n",
              "      <td>10</td>\n",
              "      <td>18</td>\n",
              "      <td>0</td>\n",
              "      <td>8</td>\n",
              "      <td>2</td>\n",
              "      <td>0</td>\n",
              "      <td>2</td>\n",
              "      <td>67.894602</td>\n",
              "      <td>...</td>\n",
              "      <td>16.364528</td>\n",
              "      <td>27.000000</td>\n",
              "      <td>1.800000</td>\n",
              "      <td>48.600000</td>\n",
              "      <td>2.700000</td>\n",
              "      <td>0.009000</td>\n",
              "      <td>1.0</td>\n",
              "      <td>19.0</td>\n",
              "      <td>1.0</td>\n",
              "      <td>0</td>\n",
              "    </tr>\n",
              "    <tr>\n",
              "      <th>56567</th>\n",
              "      <td>093d51479f95b521711a31c2032758ce40ec68c6.py</td>\n",
              "      <td>23</td>\n",
              "      <td>17</td>\n",
              "      <td>15</td>\n",
              "      <td>0</td>\n",
              "      <td>4</td>\n",
              "      <td>4</td>\n",
              "      <td>0</td>\n",
              "      <td>1</td>\n",
              "      <td>66.175368</td>\n",
              "      <td>...</td>\n",
              "      <td>2.000000</td>\n",
              "      <td>9.509775</td>\n",
              "      <td>1.000000</td>\n",
              "      <td>9.509775</td>\n",
              "      <td>0.528321</td>\n",
              "      <td>0.003170</td>\n",
              "      <td>1.0</td>\n",
              "      <td>14.0</td>\n",
              "      <td>0.0</td>\n",
              "      <td>0</td>\n",
              "    </tr>\n",
              "  </tbody>\n",
              "</table>\n",
              "<p>56568 rows × 26 columns</p>\n",
              "</div>"
            ],
            "text/plain": [
              "                                                filename  loc  lloc  sloc  \\\n",
              "0      6b1419553be378b76534b66c80bbfe102c97375b381df8...   54    15    37   \n",
              "1            198cdf11b175f5399337273dd6c828f015966766.py    2     2     2   \n",
              "2            fc962a255b9813000a1a6af6ae8fc2787df9f9f3.py   31    14    16   \n",
              "3            76727adad9cb6a1bf76b9ef414e9aa527205f3aa.py    2     2     2   \n",
              "4            c4465c13d1c8068c349fb1fe57c2af826a0a14fa.py    2     2     2   \n",
              "...                                                  ...  ...   ...   ...   \n",
              "56563        b60eee1f0b64a97dd0e39c6ec585b038ae6296d1.py   18    17    17   \n",
              "56564        e9edf4eeaa4ca4df452d4cd79f49af45a3143392.py    5     5     4   \n",
              "56565        2d5d43d99bab1a14cffd8b8a4e7ec6da5d3db25b.py    4     4     4   \n",
              "56566        115e059e2f6d8632fb57c6bd99657b8c354d7f79.py   28    10    18   \n",
              "56567        093d51479f95b521711a31c2032758ce40ec68c6.py   23    17    15   \n",
              "\n",
              "       comments  multi  blank  single_comments  Cyclomatic Complexity  \\\n",
              "0             0     12      5                0                      2   \n",
              "1             0      0      0                0                      1   \n",
              "2             0     10      5                0                      6   \n",
              "3             0      0      0                0                      1   \n",
              "4             0      0      0                0                      1   \n",
              "...         ...    ...    ...              ...                    ...   \n",
              "56563         1      0      1                0                      8   \n",
              "56564         0      0      0                1                      1   \n",
              "56565         0      0      0                0                      2   \n",
              "56566         0      8      2                0                      2   \n",
              "56567         0      4      4                0                      1   \n",
              "\n",
              "               mi  ...  calculated_length     volume  difficulty      effort  \\\n",
              "0      100.000000  ...           0.000000   0.000000    0.000000    0.000000   \n",
              "1       85.288536  ...           6.754888  13.931569    1.333333   18.575425   \n",
              "2       63.125423  ...          27.651484  38.053748    2.000000   76.107496   \n",
              "3      100.000000  ...           0.000000   0.000000    0.000000    0.000000   \n",
              "4      100.000000  ...           0.000000   0.000000    0.000000    0.000000   \n",
              "...           ...  ...                ...        ...         ...         ...   \n",
              "56563   73.161694  ...          51.019550  72.000000    2.000000  144.000000   \n",
              "56564  100.000000  ...           0.000000   0.000000    0.000000    0.000000   \n",
              "56565   79.141804  ...           6.754888  11.609640    1.000000   11.609640   \n",
              "56566   67.894602  ...          16.364528  27.000000    1.800000   48.600000   \n",
              "56567   66.175368  ...           2.000000   9.509775    1.000000    9.509775   \n",
              "\n",
              "           time      bugs  number of methods  number of attributes  \\\n",
              "0      0.000000  0.000000                0.0                  37.0   \n",
              "1      1.031968  0.004644                1.0                   4.0   \n",
              "2      4.228194  0.012685                1.0                  19.0   \n",
              "3      0.000000  0.000000                1.0                   3.0   \n",
              "4      0.000000  0.000000                1.0                   3.0   \n",
              "...         ...       ...                ...                   ...   \n",
              "56563  8.000000  0.024000                1.0                  16.0   \n",
              "56564  0.000000  0.000000                1.0                   9.0   \n",
              "56565  0.644980  0.003870                1.0                   7.0   \n",
              "56566  2.700000  0.009000                1.0                  19.0   \n",
              "56567  0.528321  0.003170                1.0                  14.0   \n",
              "\n",
              "       number of branches  Bug Present  \n",
              "0                     0.0            1  \n",
              "1                     0.0            0  \n",
              "2                     3.0            0  \n",
              "3                     0.0            0  \n",
              "4                     0.0            0  \n",
              "...                   ...          ...  \n",
              "56563                 5.0            0  \n",
              "56564                 0.0            0  \n",
              "56565                 1.0            0  \n",
              "56566                 1.0            0  \n",
              "56567                 0.0            0  \n",
              "\n",
              "[56568 rows x 26 columns]"
            ]
          },
          "execution_count": 7,
          "metadata": {},
          "output_type": "execute_result"
        },
        {
          "name": "stdout",
          "output_type": "stream",
          "text": [
            "time: 32 ms (started: 2023-11-29 15:56:02 +06:00)\n"
          ]
        }
      ],
      "source": [
        "df_val"
      ]
    },
    {
      "cell_type": "code",
      "execution_count": null,
      "metadata": {
        "colab": {
          "base_uri": "https://localhost:8080/"
        },
        "id": "PYkvlFJ_hq73",
        "outputId": "c65be156-2cf7-476f-cc5a-44d17f3c15a0"
      },
      "outputs": [
        {
          "name": "stdout",
          "output_type": "stream",
          "text": [
            "time: 16 ms (started: 2023-11-29 15:56:02 +06:00)\n"
          ]
        }
      ],
      "source": [
        "X_train = df_train.drop(['Bug Present','filename','Unnamed: 0'], axis=1).values\n",
        "y_train = df_train['Bug Present'].values\n",
        "X_val = df_val.drop(['Bug Present','filename'], axis=1).values\n",
        "y_val = df_val['Bug Present'].values"
      ]
    },
    {
      "cell_type": "markdown",
      "metadata": {
        "id": "LLTEaHYbiRZJ"
      },
      "source": [
        "## Train the model"
      ]
    },
    {
      "cell_type": "code",
      "execution_count": null,
      "metadata": {
        "colab": {
          "base_uri": "https://localhost:8080/",
          "height": 142
        },
        "id": "10b76z3vjRSd",
        "outputId": "29e5c439-25f4-4f63-f2bc-05ff0f96a749"
      },
      "outputs": [
        {
          "data": {
            "text/html": [
              "<style>#sk-container-id-1 {color: black;}#sk-container-id-1 pre{padding: 0;}#sk-container-id-1 div.sk-toggleable {background-color: white;}#sk-container-id-1 label.sk-toggleable__label {cursor: pointer;display: block;width: 100%;margin-bottom: 0;padding: 0.3em;box-sizing: border-box;text-align: center;}#sk-container-id-1 label.sk-toggleable__label-arrow:before {content: \"▸\";float: left;margin-right: 0.25em;color: #696969;}#sk-container-id-1 label.sk-toggleable__label-arrow:hover:before {color: black;}#sk-container-id-1 div.sk-estimator:hover label.sk-toggleable__label-arrow:before {color: black;}#sk-container-id-1 div.sk-toggleable__content {max-height: 0;max-width: 0;overflow: hidden;text-align: left;background-color: #f0f8ff;}#sk-container-id-1 div.sk-toggleable__content pre {margin: 0.2em;color: black;border-radius: 0.25em;background-color: #f0f8ff;}#sk-container-id-1 input.sk-toggleable__control:checked~div.sk-toggleable__content {max-height: 200px;max-width: 100%;overflow: auto;}#sk-container-id-1 input.sk-toggleable__control:checked~label.sk-toggleable__label-arrow:before {content: \"▾\";}#sk-container-id-1 div.sk-estimator input.sk-toggleable__control:checked~label.sk-toggleable__label {background-color: #d4ebff;}#sk-container-id-1 div.sk-label input.sk-toggleable__control:checked~label.sk-toggleable__label {background-color: #d4ebff;}#sk-container-id-1 input.sk-hidden--visually {border: 0;clip: rect(1px 1px 1px 1px);clip: rect(1px, 1px, 1px, 1px);height: 1px;margin: -1px;overflow: hidden;padding: 0;position: absolute;width: 1px;}#sk-container-id-1 div.sk-estimator {font-family: monospace;background-color: #f0f8ff;border: 1px dotted black;border-radius: 0.25em;box-sizing: border-box;margin-bottom: 0.5em;}#sk-container-id-1 div.sk-estimator:hover {background-color: #d4ebff;}#sk-container-id-1 div.sk-parallel-item::after {content: \"\";width: 100%;border-bottom: 1px solid gray;flex-grow: 1;}#sk-container-id-1 div.sk-label:hover label.sk-toggleable__label {background-color: #d4ebff;}#sk-container-id-1 div.sk-serial::before {content: \"\";position: absolute;border-left: 1px solid gray;box-sizing: border-box;top: 0;bottom: 0;left: 50%;z-index: 0;}#sk-container-id-1 div.sk-serial {display: flex;flex-direction: column;align-items: center;background-color: white;padding-right: 0.2em;padding-left: 0.2em;position: relative;}#sk-container-id-1 div.sk-item {position: relative;z-index: 1;}#sk-container-id-1 div.sk-parallel {display: flex;align-items: stretch;justify-content: center;background-color: white;position: relative;}#sk-container-id-1 div.sk-item::before, #sk-container-id-1 div.sk-parallel-item::before {content: \"\";position: absolute;border-left: 1px solid gray;box-sizing: border-box;top: 0;bottom: 0;left: 50%;z-index: -1;}#sk-container-id-1 div.sk-parallel-item {display: flex;flex-direction: column;z-index: 1;position: relative;background-color: white;}#sk-container-id-1 div.sk-parallel-item:first-child::after {align-self: flex-end;width: 50%;}#sk-container-id-1 div.sk-parallel-item:last-child::after {align-self: flex-start;width: 50%;}#sk-container-id-1 div.sk-parallel-item:only-child::after {width: 0;}#sk-container-id-1 div.sk-dashed-wrapped {border: 1px dashed gray;margin: 0 0.4em 0.5em 0.4em;box-sizing: border-box;padding-bottom: 0.4em;background-color: white;}#sk-container-id-1 div.sk-label label {font-family: monospace;font-weight: bold;display: inline-block;line-height: 1.2em;}#sk-container-id-1 div.sk-label-container {text-align: center;}#sk-container-id-1 div.sk-container {/* jupyter's `normalize.less` sets `[hidden] { display: none; }` but bootstrap.min.css set `[hidden] { display: none !important; }` so we also need the `!important` here to be able to override the default hidden behavior on the sphinx rendered scikit-learn.org. See: https://github.com/scikit-learn/scikit-learn/issues/21755 */display: inline-block !important;position: relative;}#sk-container-id-1 div.sk-text-repr-fallback {display: none;}</style><div id=\"sk-container-id-1\" class=\"sk-top-container\"><div class=\"sk-text-repr-fallback\"><pre>Pipeline(steps=[(&#x27;standardscaler&#x27;, StandardScaler()), (&#x27;svc&#x27;, SVC())])</pre><b>In a Jupyter environment, please rerun this cell to show the HTML representation or trust the notebook. <br />On GitHub, the HTML representation is unable to render, please try loading this page with nbviewer.org.</b></div><div class=\"sk-container\" hidden><div class=\"sk-item sk-dashed-wrapped\"><div class=\"sk-label-container\"><div class=\"sk-label sk-toggleable\"><input class=\"sk-toggleable__control sk-hidden--visually\" id=\"sk-estimator-id-1\" type=\"checkbox\" ><label for=\"sk-estimator-id-1\" class=\"sk-toggleable__label sk-toggleable__label-arrow\">Pipeline</label><div class=\"sk-toggleable__content\"><pre>Pipeline(steps=[(&#x27;standardscaler&#x27;, StandardScaler()), (&#x27;svc&#x27;, SVC())])</pre></div></div></div><div class=\"sk-serial\"><div class=\"sk-item\"><div class=\"sk-estimator sk-toggleable\"><input class=\"sk-toggleable__control sk-hidden--visually\" id=\"sk-estimator-id-2\" type=\"checkbox\" ><label for=\"sk-estimator-id-2\" class=\"sk-toggleable__label sk-toggleable__label-arrow\">StandardScaler</label><div class=\"sk-toggleable__content\"><pre>StandardScaler()</pre></div></div></div><div class=\"sk-item\"><div class=\"sk-estimator sk-toggleable\"><input class=\"sk-toggleable__control sk-hidden--visually\" id=\"sk-estimator-id-3\" type=\"checkbox\" ><label for=\"sk-estimator-id-3\" class=\"sk-toggleable__label sk-toggleable__label-arrow\">SVC</label><div class=\"sk-toggleable__content\"><pre>SVC()</pre></div></div></div></div></div></div></div>"
            ],
            "text/plain": [
              "Pipeline(steps=[('standardscaler', StandardScaler()), ('svc', SVC())])"
            ]
          },
          "execution_count": 9,
          "metadata": {},
          "output_type": "execute_result"
        },
        {
          "name": "stdout",
          "output_type": "stream",
          "text": [
            "time: 10min 43s (started: 2023-11-29 15:56:02 +06:00)\n"
          ]
        }
      ],
      "source": [
        "model=make_pipeline(StandardScaler(), SVC())\n",
        "model.fit(X_train,y_train)"
      ]
    },
    {
      "cell_type": "code",
      "execution_count": null,
      "metadata": {
        "colab": {
          "base_uri": "https://localhost:8080/"
        },
        "id": "qCAcJKDOiMrj",
        "outputId": "2abc9521-e3c4-451a-8d52-b19a6bd81342"
      },
      "outputs": [
        {
          "name": "stdout",
          "output_type": "stream",
          "text": [
            "time: 0 ns (started: 2023-11-29 16:06:45 +06:00)\n"
          ]
        }
      ],
      "source": [
        "cv = StratifiedKFold(n_splits=10, shuffle=True, random_state=42)"
      ]
    },
    {
      "cell_type": "code",
      "execution_count": null,
      "metadata": {
        "id": "AUDRXzY8B_v3",
        "outputId": "b87dd492-afc2-45b6-9639-7e69ab7b55e5"
      },
      "outputs": [
        {
          "name": "stdout",
          "output_type": "stream",
          "text": [
            "time: 1h 23min 55s (started: 2023-11-29 19:36:53 +06:00)\n"
          ]
        }
      ],
      "source": [
        "cross_val_results = cross_val_score(model, X_train, y_train, cv=cv, scoring='accuracy')"
      ]
    },
    {
      "cell_type": "code",
      "execution_count": null,
      "metadata": {
        "id": "kNMZTHldB_v3",
        "outputId": "21de1e2c-a694-42ba-9103-4183de92b41b"
      },
      "outputs": [
        {
          "name": "stdout",
          "output_type": "stream",
          "text": [
            "time: 1min 41s (started: 2023-11-29 21:01:20 +06:00)\n"
          ]
        }
      ],
      "source": [
        "val_accuracy = model.score(X_val, y_val)"
      ]
    },
    {
      "cell_type": "code",
      "execution_count": null,
      "metadata": {
        "id": "Uk_uCJeniWbY",
        "outputId": "dd287b89-2099-4918-8414-d3e094754685"
      },
      "outputs": [
        {
          "name": "stdout",
          "output_type": "stream",
          "text": [
            "Cross-validation results: [0.84772054 0.84665483 0.84677324 0.84452339 0.84251036 0.84582593\n",
            " 0.84144464 0.84073416 0.84760213 0.84949674]\n",
            "Mean Cross-validation accuracy: 84.53%\n",
            "Validation accuracy: 84.76%\n",
            "time: 16 ms (started: 2023-11-29 21:03:02 +06:00)\n"
          ]
        }
      ],
      "source": [
        "print(\"Cross-validation results:\", cross_val_results)\n",
        "print(\"Mean Cross-validation accuracy: {:.2f}%\".format(cross_val_results.mean() * 100))\n",
        "print(\"Validation accuracy: {:.2f}%\".format(val_accuracy * 100))"
      ]
    },
    {
      "cell_type": "markdown",
      "metadata": {
        "id": "NW8caye_sGaW"
      },
      "source": [
        "# Performance Metrics"
      ]
    },
    {
      "cell_type": "code",
      "execution_count": null,
      "metadata": {
        "colab": {
          "base_uri": "https://localhost:8080/"
        },
        "id": "vUxneBIuqrwO",
        "outputId": "661bcd34-b627-41fa-edd1-5752a9d0b467"
      },
      "outputs": [
        {
          "name": "stdout",
          "output_type": "stream",
          "text": [
            "time: 47 ms (started: 2023-11-29 21:03:02 +06:00)\n"
          ]
        }
      ],
      "source": [
        "df_test=pd.read_csv('testing_set.csv')"
      ]
    },
    {
      "cell_type": "code",
      "execution_count": null,
      "metadata": {
        "colab": {
          "base_uri": "https://localhost:8080/"
        },
        "id": "bgeel2SBqyKY",
        "outputId": "c319aaa1-f2f0-4e79-ca59-4a43ddad28b9"
      },
      "outputs": [
        {
          "name": "stdout",
          "output_type": "stream",
          "text": [
            "time: 15 ms (started: 2023-11-29 21:03:02 +06:00)\n"
          ]
        }
      ],
      "source": [
        "X_test= df_test.drop(['Bug Present','filename'], axis=1).values\n",
        "y_test = df_test['Bug Present'].values"
      ]
    },
    {
      "cell_type": "code",
      "execution_count": null,
      "metadata": {
        "colab": {
          "base_uri": "https://localhost:8080/"
        },
        "id": "qU7uh6GDq7PE",
        "outputId": "c8eac586-3b92-4d63-8a7f-14a42afedeaf"
      },
      "outputs": [
        {
          "name": "stdout",
          "output_type": "stream",
          "text": [
            "time: 63 ms (started: 2023-11-29 21:03:02 +06:00)\n"
          ]
        }
      ],
      "source": [
        "y_pred=model.predict(X_test)"
      ]
    },
    {
      "cell_type": "code",
      "execution_count": null,
      "metadata": {
        "colab": {
          "base_uri": "https://localhost:8080/"
        },
        "id": "UlsHYaRLrdXT",
        "outputId": "78b6a1b5-cf71-46b9-ecdd-39e9acb22980"
      },
      "outputs": [
        {
          "name": "stdout",
          "output_type": "stream",
          "text": [
            "time: 0 ns (started: 2023-11-29 21:03:02 +06:00)\n"
          ]
        }
      ],
      "source": [
        "from sklearn.metrics import accuracy_score"
      ]
    },
    {
      "cell_type": "code",
      "execution_count": null,
      "metadata": {
        "colab": {
          "base_uri": "https://localhost:8080/"
        },
        "id": "LbsnzMz2reiG",
        "outputId": "f5b24343-93aa-4975-fcdf-eab5cccacc55"
      },
      "outputs": [
        {
          "name": "stdout",
          "output_type": "stream",
          "text": [
            "Accuracy:  42.857142857142854 %\n",
            "time: 16 ms (started: 2023-11-29 21:03:02 +06:00)\n"
          ]
        }
      ],
      "source": [
        "accuracy=accuracy_score(y_pred,y_test)\n",
        "print(\"Accuracy: \",accuracy*100,\"%\")"
      ]
    },
    {
      "cell_type": "code",
      "execution_count": null,
      "metadata": {
        "colab": {
          "base_uri": "https://localhost:8080/"
        },
        "id": "zEh-qejgrjcf",
        "outputId": "07027b26-5ecf-4bae-9b47-c1d54144a538"
      },
      "outputs": [
        {
          "name": "stdout",
          "output_type": "stream",
          "text": [
            "time: 0 ns (started: 2023-11-29 21:03:02 +06:00)\n"
          ]
        }
      ],
      "source": [
        "from sklearn.metrics import roc_curve,auc"
      ]
    },
    {
      "cell_type": "code",
      "execution_count": null,
      "metadata": {
        "colab": {
          "base_uri": "https://localhost:8080/"
        },
        "id": "Q4d7bPyPswkD",
        "outputId": "4b687726-0ac1-4678-ff28-aa40ceb9333d"
      },
      "outputs": [
        {
          "name": "stdout",
          "output_type": "stream",
          "text": [
            "time: 16 ms (started: 2023-11-29 21:03:02 +06:00)\n"
          ]
        }
      ],
      "source": [
        "fpr,tpr, _ = roc_curve(y_test, y_pred)\n",
        "roc_auc = auc(fpr,tpr)"
      ]
    },
    {
      "cell_type": "code",
      "execution_count": null,
      "metadata": {
        "colab": {
          "base_uri": "https://localhost:8080/",
          "height": 489
        },
        "id": "M553uZv1tIz8",
        "outputId": "3f98b88b-f409-4880-c9ac-a8048674d06d"
      },
      "outputs": [
        {
          "data": {
            "image/png": "[encoded data removed]",
            "text/plain": [
              "<Figure size 640x480 with 1 Axes>"
            ]
          },
          "metadata": {},
          "output_type": "display_data"
        },
        {
          "name": "stdout",
          "output_type": "stream",
          "text": [
            "time: 204 ms (started: 2023-11-29 21:03:02 +06:00)\n"
          ]
        }
      ],
      "source": [
        "plt.plot(fpr, tpr, label='ROC curve (AUC = {:.2f})'.format(roc_auc))\n",
        "plt.xlabel('False Positive Rate')\n",
        "plt.ylabel('True Positive Rate')\n",
        "plt.title('ROC Curve using SVM')\n",
        "plt.legend(loc=\"lower right\")\n",
        "plt.show()"
      ]
    },
    {
      "cell_type": "code",
      "execution_count": null,
      "metadata": {
        "colab": {
          "base_uri": "https://localhost:8080/"
        },
        "id": "UWD-vhVhtKff",
        "outputId": "692011e9-eac5-4c14-c017-09034f0a170c"
      },
      "outputs": [
        {
          "name": "stdout",
          "output_type": "stream",
          "text": [
            "time: 250 ms (started: 2023-11-29 21:03:02 +06:00)\n"
          ]
        }
      ],
      "source": [
        "from sklearn.metrics import confusion_matrix\n",
        "import seaborn as sns"
      ]
    },
    {
      "cell_type": "code",
      "execution_count": null,
      "metadata": {
        "colab": {
          "base_uri": "https://localhost:8080/",
          "height": 581
        },
        "id": "5u81KooYtxuM",
        "outputId": "b207e001-6fa7-426b-a8bf-5b63ca208478"
      },
      "outputs": [
        {
          "data": {
            "image/png": "[encoded data removed]",
            "text/plain": [
              "<Figure size 800x600 with 1 Axes>"
            ]
          },
          "metadata": {},
          "output_type": "display_data"
        },
        {
          "name": "stdout",
          "output_type": "stream",
          "text": [
            "time: 78 ms (started: 2023-11-29 21:03:03 +06:00)\n"
          ]
        }
      ],
      "source": [
        "confusion = confusion_matrix(y_test, y_pred)\n",
        "plt.figure(figsize=(8, 6))\n",
        "sns.heatmap(confusion, annot=True, fmt=\"d\", cmap=\"Blues\", cbar=False, xticklabels=['Class 0', 'Class 1', 'Class 2'], yticklabels=['Class 0', 'Class 1', 'Class 2'])\n",
        "plt.xlabel('Predicted')\n",
        "plt.ylabel('True')\n",
        "plt.title('Confusion Matrix for SVM')\n",
        "\n",
        "plt.show()"
      ]
    },
    {
      "cell_type": "code",
      "execution_count": null,
      "metadata": {
        "id": "A0D8qTn7v3qg",
        "outputId": "8d063319-f790-4383-aba2-4ada9e9bba12"
      },
      "outputs": [
        {
          "name": "stdout",
          "output_type": "stream",
          "text": [
            "time: 0 ns (started: 2023-11-29 21:36:44 +06:00)\n"
          ]
        }
      ],
      "source": [
        "import joblib"
      ]
    },
    {
      "cell_type": "code",
      "execution_count": null,
      "metadata": {
        "id": "TsMbA5PeB_v6",
        "outputId": "73def277-7151-4fdb-d6e9-aa8f010a7887"
      },
      "outputs": [
        {
          "data": {
            "text/plain": [
              "['svm.joblib']"
            ]
          },
          "execution_count": 32,
          "metadata": {},
          "output_type": "execute_result"
        },
        {
          "name": "stdout",
          "output_type": "stream",
          "text": [
            "time: 47 ms (started: 2023-11-29 21:36:59 +06:00)\n"
          ]
        }
      ],
      "source": [
        "joblib.dump(model,'svm.joblib')"
      ]
    },
    {
      "cell_type": "code",
      "execution_count": null,
      "metadata": {
        "id": "4ia6wys2B_v6"
      },
      "outputs": [],
      "source": []
    }
  ],
  "metadata": {
    "colab": {
      "gpuType": "T4",
      "provenance": []
    },
    "kernelspec": {
      "display_name": "Python 3 (ipykernel)",
      "language": "python",
      "name": "python3"
    },
    "language_info": {
      "codemirror_mode": {
        "name": "ipython",
        "version": 3
      },
      "file_extension": ".py",
      "mimetype": "text/x-python",
      "name": "python",
      "nbconvert_exporter": "python",
      "pygments_lexer": "ipython3",
      "version": "3.12.0"
    }
  },
  "nbformat": 4,
  "nbformat_minor": 0
}